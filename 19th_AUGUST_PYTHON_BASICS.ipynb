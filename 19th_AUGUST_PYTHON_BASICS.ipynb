{
 "cells": [
  {
   "cell_type": "code",
   "execution_count": null,
   "id": "81837e84-b0f5-4ead-97d6-7c6626f0c5b3",
   "metadata": {},
   "outputs": [],
   "source": [
    "#####variables and strings #######"
   ]
  },
  {
   "cell_type": "code",
   "execution_count": null,
   "id": "a5c44798-5673-47a5-8a76-8828178e35dd",
   "metadata": {},
   "outputs": [],
   "source": [
    "#problem 1 "
   ]
  },
  {
   "cell_type": "code",
   "execution_count": 1,
   "id": "ed332cd3-21f0-41b7-9862-b89062a28740",
   "metadata": {},
   "outputs": [],
   "source": [
    "# Declaring 2 int variables x and y and assigning them to some values "
   ]
  },
  {
   "cell_type": "code",
   "execution_count": 70,
   "id": "f1dc6c61-11f1-449f-8dc6-401af4ad5fc7",
   "metadata": {},
   "outputs": [],
   "source": [
    "x=54\n",
    "y=43"
   ]
  },
  {
   "cell_type": "code",
   "execution_count": 71,
   "id": "642f55b9-c457-401d-a86e-241f047694e0",
   "metadata": {},
   "outputs": [],
   "source": [
    "# trying to print values before swapping"
   ]
  },
  {
   "cell_type": "code",
   "execution_count": 72,
   "id": "ffa7bc9c-637a-4360-bf54-13be2bf8ecf9",
   "metadata": {},
   "outputs": [
    {
     "name": "stdout",
     "output_type": "stream",
     "text": [
      "54 43\n"
     ]
    }
   ],
   "source": [
    "print(x,y)"
   ]
  },
  {
   "cell_type": "code",
   "execution_count": 73,
   "id": "037a5338-fc6e-4e6c-b7d2-d5be37714db2",
   "metadata": {},
   "outputs": [],
   "source": [
    "#values after swapping"
   ]
  },
  {
   "cell_type": "code",
   "execution_count": 74,
   "id": "2f636e1d-5aba-4f64-a823-2419b4ee7371",
   "metadata": {},
   "outputs": [],
   "source": [
    "#swapping is done by assigning value of x to y and value of y to x"
   ]
  },
  {
   "cell_type": "code",
   "execution_count": 75,
   "id": "cf532ff0-5471-48eb-a031-c62d2002a534",
   "metadata": {},
   "outputs": [
    {
     "name": "stdout",
     "output_type": "stream",
     "text": [
      "43 54\n"
     ]
    }
   ],
   "source": [
    "x,y=y,x\n",
    "print(x,y)"
   ]
  },
  {
   "cell_type": "code",
   "execution_count": 76,
   "id": "0068af3e-c783-4e52-bcf3-9d687c803c04",
   "metadata": {},
   "outputs": [],
   "source": [
    "###################################################################################################################"
   ]
  },
  {
   "cell_type": "code",
   "execution_count": 77,
   "id": "2e3e1f79-7e4d-4429-a502-dc5e6e50a935",
   "metadata": {},
   "outputs": [],
   "source": [
    "#problem 2 finding the area of rectangle"
   ]
  },
  {
   "cell_type": "code",
   "execution_count": 78,
   "id": "99d3cb24-19ec-4962-81e9-55168bd403dd",
   "metadata": {},
   "outputs": [],
   "source": [
    "#trying to take length and width from user"
   ]
  },
  {
   "cell_type": "code",
   "execution_count": 79,
   "id": "11f00642-69b2-4674-8e66-f7140c5cca40",
   "metadata": {},
   "outputs": [],
   "source": [
    "#using input() to take user input values"
   ]
  },
  {
   "cell_type": "code",
   "execution_count": 81,
   "id": "a2e35ca3-d53c-4300-9f35-21a60fe48fba",
   "metadata": {},
   "outputs": [
    {
     "name": "stdin",
     "output_type": "stream",
     "text": [
      "please enter length in cm\n",
      " 390\n",
      "please enter width in cm\n",
      " 2RE\n"
     ]
    },
    {
     "name": "stdout",
     "output_type": "stream",
     "text": [
      "not a valid number\n"
     ]
    }
   ],
   "source": [
    "try:\n",
    "\trectangle_length=(int(input(\"please enter length in cm\\n\")))\n",
    "\trectangle_width=int(input(\"please enter width in cm\\n\"))\n",
    "except ValueError:\n",
    "    print('not a valid number')\n",
    "except Exception as e:\n",
    "\tprint(e)\n",
    "else:\n",
    "\tarea_of_rectangle= rectangle_length*rectangle_width\n",
    "\tprint(f'area of rectangle={area_of_rectangle}cm')"
   ]
  },
  {
   "cell_type": "code",
   "execution_count": 82,
   "id": "21b9fedc-fd5b-4d97-9cf4-93f6ac651fd4",
   "metadata": {},
   "outputs": [
    {
     "data": {
      "text/plain": [
       "'as it is an user value, might be a chance of user entering a string value so exception handling is done to\\nprevent such errors'"
      ]
     },
     "execution_count": 82,
     "metadata": {},
     "output_type": "execute_result"
    }
   ],
   "source": [
    "'''as it is an user value, might be a chance of user entering a string value so exception handling is done to\n",
    "prevent such errors'''"
   ]
  },
  {
   "cell_type": "code",
   "execution_count": 83,
   "id": "8c5650a6-f823-43f5-8ddd-072973fc1a65",
   "metadata": {},
   "outputs": [
    {
     "data": {
      "text/plain": [
       "'in try block we are taking user input so that if user tries to enter any other value other than\\ninteger we can handle through except block either through ValueError of if any other error we have declared\\nException super class'"
      ]
     },
     "execution_count": 83,
     "metadata": {},
     "output_type": "execute_result"
    }
   ],
   "source": [
    "'''in try block we are taking user input so that if user tries to enter any other value other than\n",
    "integer we can handle through except block either through ValueError of if any other error we have declared\n",
    "Exception super class'''"
   ]
  },
  {
   "cell_type": "code",
   "execution_count": 84,
   "id": "2d22b570-5bac-453d-b52d-e9f5f2c606bf",
   "metadata": {},
   "outputs": [
    {
     "data": {
      "text/plain": [
       "'if the user enters correct value else block will get performed and will calculate area of rectangle\\nand will pring area of rectangle'"
      ]
     },
     "execution_count": 84,
     "metadata": {},
     "output_type": "execute_result"
    }
   ],
   "source": [
    "'''if the user enters correct value else block will get performed and will calculate area of rectangle\n",
    "and will pring area of rectangle'''"
   ]
  },
  {
   "cell_type": "code",
   "execution_count": 85,
   "id": "b3f6b7e4-a021-4ac6-8525-36a93698272e",
   "metadata": {},
   "outputs": [],
   "source": [
    "###################################################################################################################"
   ]
  },
  {
   "cell_type": "code",
   "execution_count": 86,
   "id": "22379eb5-ca28-497b-8e1b-d9bec7a67002",
   "metadata": {},
   "outputs": [],
   "source": [
    "#######temperature conversion##########"
   ]
  },
  {
   "cell_type": "code",
   "execution_count": 87,
   "id": "4541720b-0bc7-4b71-b418-84ca0449fa76",
   "metadata": {},
   "outputs": [],
   "source": [
    "#problem 3 "
   ]
  },
  {
   "cell_type": "code",
   "execution_count": 91,
   "id": "1a85311f-b320-4ac1-966f-193e7e5f31b0",
   "metadata": {},
   "outputs": [
    {
     "name": "stdin",
     "output_type": "stream",
     "text": [
      "please enter temperature in celsius\n",
      " VF\n"
     ]
    },
    {
     "name": "stdout",
     "output_type": "stream",
     "text": [
      "please enter valid temperature\n"
     ]
    }
   ],
   "source": [
    "try:\n",
    "\ttemperature_in_celsius=int(input(\"please enter temperature in celsius\\n\"))\n",
    "except ValueError:\n",
    "    print('please enter valid temperature')\n",
    "except Exception as e:\n",
    "\tprint(e)\n",
    "else:\n",
    "\ttemperature_in_fahrenheit=(temperature_in_celsius* 9/5)+32\n",
    "\tprint(f'temperature in fahrenheit = {temperature_in_fahrenheit} F')"
   ]
  },
  {
   "cell_type": "code",
   "execution_count": 92,
   "id": "8ed4b958-fc25-45c8-a5e0-99be0fe0f3a0",
   "metadata": {},
   "outputs": [
    {
     "data": {
      "text/plain": [
       "'same as the above problem as we  are taking user input there mmight be a chance of user entering random values\\nso declared inout () in try block to block such errors in except block'"
      ]
     },
     "execution_count": 92,
     "metadata": {},
     "output_type": "execute_result"
    }
   ],
   "source": [
    "'''same as the above problem as we  are taking user input there mmight be a chance of user entering random values\n",
    "so declared inout () in try block to block such errors in except block'''"
   ]
  },
  {
   "cell_type": "code",
   "execution_count": 93,
   "id": "5f3dd546-996e-497b-8a2f-98ccd6dec2a9",
   "metadata": {},
   "outputs": [
    {
     "data": {
      "text/plain": [
       "'if the user is entering valid input it is converted to fahrenheit and then printed out'"
      ]
     },
     "execution_count": 93,
     "metadata": {},
     "output_type": "execute_result"
    }
   ],
   "source": [
    "'''if the user is entering valid input it is converted to fahrenheit and then printed out'''"
   ]
  },
  {
   "cell_type": "code",
   "execution_count": 94,
   "id": "0adaba74-5d13-47e0-9b33-a04cabae4824",
   "metadata": {},
   "outputs": [
    {
     "data": {
      "text/plain": [
       "'else we have given ValueError to block other datatype input and Exception super class to encounter any \\nother error'"
      ]
     },
     "execution_count": 94,
     "metadata": {},
     "output_type": "execute_result"
    }
   ],
   "source": [
    "'''else we have given ValueError to block other datatype input and Exception super class to encounter any \n",
    "other error'''"
   ]
  },
  {
   "cell_type": "code",
   "execution_count": 95,
   "id": "99f69c44-f29e-483e-a06b-6abb84af0ee9",
   "metadata": {},
   "outputs": [],
   "source": [
    "##################################################################################################################"
   ]
  },
  {
   "cell_type": "code",
   "execution_count": 96,
   "id": "7eb1b5b7-bf91-42b0-84c3-a10c0b385f54",
   "metadata": {},
   "outputs": [],
   "source": [
    "#################################################################################################################"
   ]
  },
  {
   "cell_type": "code",
   "execution_count": 97,
   "id": "302eb508-82c3-4e57-b6ef-0011d56c4bf3",
   "metadata": {},
   "outputs": [],
   "source": [
    "#strings"
   ]
  },
  {
   "cell_type": "code",
   "execution_count": 98,
   "id": "6919e8f6-adf2-4af4-8ceb-bcd38f92436e",
   "metadata": {},
   "outputs": [],
   "source": [
    "#problem 1 "
   ]
  },
  {
   "cell_type": "code",
   "execution_count": 99,
   "id": "fdf85088-af1b-451e-b569-6f1cfd8b55e0",
   "metadata": {},
   "outputs": [
    {
     "name": "stdin",
     "output_type": "stream",
     "text": [
      "please enter a string\n",
      " BHOIVRTJDGFV\n"
     ]
    },
    {
     "name": "stdout",
     "output_type": "stream",
     "text": [
      "string has 12 characters\n"
     ]
    }
   ],
   "source": [
    "input_string=input('please enter a string\\n')\n",
    "length_of_string=len(input_string)\n",
    "\n",
    "print(f'string has {length_of_string} characters')"
   ]
  },
  {
   "cell_type": "code",
   "execution_count": 100,
   "id": "1da8b963-f2ef-41ca-9037-1085264f0950",
   "metadata": {},
   "outputs": [
    {
     "data": {
      "text/plain": [
       "'Taking user input and storing in variable length_of_string and using inbuiltfunction len()to find the length of\\nstring and printing it using print()'"
      ]
     },
     "execution_count": 100,
     "metadata": {},
     "output_type": "execute_result"
    }
   ],
   "source": [
    "'''Taking user input and storing in variable length_of_string and using inbuiltfunction len()to find the length of\n",
    "string and printing it using print()'''"
   ]
  },
  {
   "cell_type": "code",
   "execution_count": 101,
   "id": "a58fa917-9c91-40b2-8ef1-ab248b3ff1b5",
   "metadata": {},
   "outputs": [],
   "source": [
    "#################################################################################################################"
   ]
  },
  {
   "cell_type": "code",
   "execution_count": 102,
   "id": "2db5fbd5-273c-4c6d-98df-ca6c420fe6d2",
   "metadata": {},
   "outputs": [],
   "source": [
    "#problem 2"
   ]
  },
  {
   "cell_type": "code",
   "execution_count": 104,
   "id": "ea12e62e-54fe-4a77-89c1-5b84fb47264f",
   "metadata": {},
   "outputs": [
    {
     "name": "stdin",
     "output_type": "stream",
     "text": [
      "please enter a string\n",
      " R4WGBRVTAEBR\n"
     ]
    },
    {
     "name": "stdout",
     "output_type": "stream",
     "text": [
      "string has  1 'a' characters\n",
      "string has  1 'e' characters\n",
      "string has  0 'i' characters\n",
      "string has  0 'o' characters\n",
      "string has  0 'u' characters\n"
     ]
    }
   ],
   "source": [
    "input_string=input('please enter a string\\n')\n",
    "input_string1=input_string.lower()\n",
    "print(f'string has ',(input_string1.count('a')),'\\'a\\' characters')\n",
    "print(f'string has ',(input_string1.count('e')),'\\'e\\' characters')\n",
    "print(f'string has ',(input_string1.count('i')),'\\'i\\' characters')\n",
    "print(f'string has ',(input_string1.count('o')),'\\'o\\' characters')\n",
    "print(f'string has ',(input_string1.count('u')),'\\'u\\' characters')"
   ]
  },
  {
   "cell_type": "code",
   "execution_count": 105,
   "id": "f093274e-3522-415e-96da-54d8442be2bb",
   "metadata": {},
   "outputs": [
    {
     "data": {
      "text/plain": [
       "'in the above problem string input is taken by user using input() as user can also enter upper case letters\\nstring is converted to lowercase using lower() using count() to count the ovels'"
      ]
     },
     "execution_count": 105,
     "metadata": {},
     "output_type": "execute_result"
    }
   ],
   "source": [
    "'''in the above problem string input is taken by user using input() as user can also enter upper case letters\n",
    "string is converted to lowercase using lower() using count() to count the ovels'''"
   ]
  },
  {
   "cell_type": "code",
   "execution_count": 106,
   "id": "2482d68e-f06b-4cff-8f09-910894a58693",
   "metadata": {},
   "outputs": [],
   "source": [
    "################################################################################################################"
   ]
  },
  {
   "cell_type": "code",
   "execution_count": 107,
   "id": "119c0bae-3d20-4373-8513-b6c66fbfb6fd",
   "metadata": {},
   "outputs": [],
   "source": [
    "#problem 3"
   ]
  },
  {
   "cell_type": "code",
   "execution_count": 108,
   "id": "3441d36f-4a1d-4882-b2e4-867fbb99b6b1",
   "metadata": {},
   "outputs": [
    {
     "name": "stdin",
     "output_type": "stream",
     "text": [
      "please enter a string\n",
      " FREABGSV\n"
     ]
    },
    {
     "name": "stdout",
     "output_type": "stream",
     "text": [
      "VSGBAERF\n"
     ]
    }
   ],
   "source": [
    "input_string3=input('please enter a string\\n')\n",
    "lent=len(input_string3)\n",
    "print(input_string3[lent::-1])"
   ]
  },
  {
   "cell_type": "code",
   "execution_count": 109,
   "id": "21a14c71-71e1-469d-90bb-ab634a083105",
   "metadata": {},
   "outputs": [
    {
     "data": {
      "text/plain": [
       "'program will find  the length of string, from the last index it will point backwords by 1 character'"
      ]
     },
     "execution_count": 109,
     "metadata": {},
     "output_type": "execute_result"
    }
   ],
   "source": [
    "'''string input is taken from user using input() then string is converted to reverse order by using indexing and \n",
    "slicing operation'''\n",
    "'''program will find  the length of string, from the last index it will point backwords by 1 character'''"
   ]
  },
  {
   "cell_type": "code",
   "execution_count": 110,
   "id": "8c0e7892-8dd7-4bb8-bdc8-6b474a15d017",
   "metadata": {},
   "outputs": [],
   "source": [
    "##################################################################################################################"
   ]
  },
  {
   "cell_type": "code",
   "execution_count": 111,
   "id": "fef02f32-cf27-41d3-b905-5fa4c6f0bccb",
   "metadata": {},
   "outputs": [],
   "source": [
    "#problem 4"
   ]
  },
  {
   "cell_type": "code",
   "execution_count": 113,
   "id": "acf0d6ba-3b00-440f-bba1-15689a1334d4",
   "metadata": {},
   "outputs": [
    {
     "name": "stdin",
     "output_type": "stream",
     "text": [
      "please enter a string\n",
      " FAEBRGSD\n"
     ]
    },
    {
     "name": "stdout",
     "output_type": "stream",
     "text": [
      "string is not a palindrom\n"
     ]
    }
   ],
   "source": [
    "input_string4=input('please enter a string\\n')\n",
    "lent=len(input_string3)\n",
    "rev_string=(input_string4[lent::-1])\n",
    "if input_string4 == rev_string:\n",
    "\tprint('String is as palindrom')\n",
    "\n",
    "else:\n",
    "\tprint('string is not a palindrom')"
   ]
  },
  {
   "cell_type": "code",
   "execution_count": 114,
   "id": "bdbf5c5a-9f02-4e9a-afb3-bef7f5d8a05a",
   "metadata": {},
   "outputs": [
    {
     "data": {
      "text/plain": [
       "'input is taken from user and string is changed to reverse order and that is stored in variable rev_string\\nusing if else condition to check if the string in reverse order is equal to original value of string'"
      ]
     },
     "execution_count": 114,
     "metadata": {},
     "output_type": "execute_result"
    }
   ],
   "source": [
    "'''input is taken from user and string is changed to reverse order and that is stored in variable rev_string\n",
    "using if else condition to check if the string in reverse order is equal to original value of string'''"
   ]
  },
  {
   "cell_type": "code",
   "execution_count": 115,
   "id": "c0ed200c-0f9d-45e9-acc7-e2b52b839238",
   "metadata": {},
   "outputs": [],
   "source": [
    "###################################################################################################################"
   ]
  },
  {
   "cell_type": "code",
   "execution_count": 116,
   "id": "a692aa97-b9e2-4cc2-8593-e88edbc1409e",
   "metadata": {},
   "outputs": [],
   "source": [
    "#problem 5"
   ]
  },
  {
   "cell_type": "code",
   "execution_count": 117,
   "id": "4c7704aa-fe64-4cef-b72b-692a8a928e25",
   "metadata": {},
   "outputs": [
    {
     "name": "stdin",
     "output_type": "stream",
     "text": [
      "please enter a string\n",
      " DCSWERSGF\n"
     ]
    }
   ],
   "source": [
    "input_string5=input('please enter a string\\n')"
   ]
  },
  {
   "cell_type": "code",
   "execution_count": 118,
   "id": "74942c6e-9495-462e-814b-b96b14eb718e",
   "metadata": {},
   "outputs": [
    {
     "data": {
      "text/plain": [
       "'DCSWERSGF'"
      ]
     },
     "execution_count": 118,
     "metadata": {},
     "output_type": "execute_result"
    }
   ],
   "source": [
    "input_string5.replace(\" \",\"\")"
   ]
  },
  {
   "cell_type": "code",
   "execution_count": 119,
   "id": "149f6739-5ba2-4ace-9664-d11e06cae301",
   "metadata": {},
   "outputs": [],
   "source": [
    "# taking input from user and using inbuilt function replace to replace spaces "
   ]
  },
  {
   "cell_type": "code",
   "execution_count": null,
   "id": "88d301e9-3796-4724-851b-e8af378ccd62",
   "metadata": {},
   "outputs": [],
   "source": []
  }
 ],
 "metadata": {
  "kernelspec": {
   "display_name": "Python 3 (ipykernel)",
   "language": "python",
   "name": "python3"
  },
  "language_info": {
   "codemirror_mode": {
    "name": "ipython",
    "version": 3
   },
   "file_extension": ".py",
   "mimetype": "text/x-python",
   "name": "python",
   "nbconvert_exporter": "python",
   "pygments_lexer": "ipython3",
   "version": "3.10.8"
  }
 },
 "nbformat": 4,
 "nbformat_minor": 5
}
